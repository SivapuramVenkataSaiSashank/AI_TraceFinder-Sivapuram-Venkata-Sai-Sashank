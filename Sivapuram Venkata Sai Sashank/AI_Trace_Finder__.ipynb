{
  "cells": [
    {
      "cell_type": "markdown",
      "id": "4fcbfd3d",
      "metadata": {
        "id": "4fcbfd3d"
      },
      "source": [
        "# 📒 Scanner ID Pipeline (Combined Official + Wikipedia)\n",
        "This notebook builds scanner fingerprints from flatfield images and trains classifiers on **Official + Wikipedia** documents together. Both an **SVM baseline** and a **TinyCNN** are included."
      ]
    },
    {
      "cell_type": "code",
      "execution_count": 1,
      "id": "ldMakvUTDJ0R",
      "metadata": {
        "colab": {
          "base_uri": "https://localhost:8080/"
        },
        "id": "ldMakvUTDJ0R",
        "outputId": "46d04219-b2d2-4063-b003-beb8025cf4ef"
      },
      "outputs": [
        {
          "name": "stdout",
          "output_type": "stream",
          "text": [
            "Mounted at /content/drive\n"
          ]
        }
      ],
      "source": [
        "from google.colab import drive\n",
        "drive.mount('/content/drive')"
      ]
    },
    {
      "cell_type": "code",
      "execution_count": 3,
      "id": "d216aebe",
      "metadata": {
        "id": "d216aebe"
      },
      "outputs": [],
      "source": [
        "\n",
        "import os, glob, random\n",
        "import numpy as np\n",
        "import matplotlib.pyplot as plt\n",
        "\n",
        "from typing import Dict, List, Tuple\n",
        "from collections import Counter\n",
        "\n",
        "from skimage import io, color\n",
        "from skimage.util import img_as_float32\n",
        "from skimage.restoration import denoise_wavelet\n",
        "from skimage.feature import local_binary_pattern\n",
        "from skimage.transform import resize\n",
        "\n",
        "from numpy.fft import fft2, fftshift\n",
        "\n",
        "from sklearn.model_selection import train_test_split\n",
        "from sklearn.pipeline import Pipeline\n",
        "from sklearn.preprocessing import StandardScaler\n",
        "from sklearn.svm import SVC\n",
        "from sklearn.metrics import classification_report, confusion_matrix, accuracy_score, ConfusionMatrixDisplay\n",
        "\n",
        "import joblib\n",
        "\n",
        "import torch\n",
        "from torch import nn\n",
        "from torch.utils.data import Dataset, DataLoader, random_split\n"
      ]
    },
    {
      "cell_type": "code",
      "execution_count": 4,
      "id": "40de84bf",
      "metadata": {
        "colab": {
          "base_uri": "https://localhost:8080/"
        },
        "id": "40de84bf",
        "outputId": "cc707f48-9163-4e91-f623-08f82ddcb69a"
      },
      "outputs": [
        {
          "name": "stdout",
          "output_type": "stream",
          "text": [
            "Checking your paths...\n",
            "D:\\scanner_id_pipeline\\data\\flatfields => OK\n",
            "D:\\scanner_id_pipeline\\data\\Official => OK\n",
            "D:\\scanner_id_pipeline\\data\\Wikipedia => OK\n"
          ]
        }
      ],
      "source": [
        "\n",
        "# ==== EDIT THESE PATHS FOR YOUR MACHINE ====\n",
        "FLATROOT = r\"D:\\scanner_id_pipeline\\data\\flatfields\"\n",
        "OFFICIALROOT = r\"D:\\scanner_id_pipeline\\data\\Official\"\n",
        "WIKIROOT = r\"D:\\scanner_id_pipeline\\data\\Wikipedia\"\n",
        "\n",
        "def check_path(p):\n",
        "    print(p, '=>', 'OK' if os.path.exists(p) else 'MISSING')\n",
        "\n",
        "print('Checking your paths...')\n",
        "check_path(FLATROOT)\n",
        "check_path(OFFICIALROOT)\n",
        "check_path(WIKIROOT)\n"
      ]
    },
    {
      "cell_type": "code",
      "execution_count": 5,
      "id": "ad54fb95",
      "metadata": {
        "id": "ad54fb95"
      },
      "outputs": [],
      "source": [
        "\n",
        "def load_image_gray(path: str) -> np.ndarray:\n",
        "    img = io.imread(path)\n",
        "    if img.ndim == 3:\n",
        "        if img.shape[-1] == 4:\n",
        "            img = img[..., :3]\n",
        "        img = color.rgb2gray(img)\n",
        "    else:\n",
        "        img = img.astype(np.float32) / (np.iinfo(img.dtype).max if np.issubdtype(img.dtype, np.integer) else 1.0)\n",
        "    return img_as_float32(img)\n",
        "\n",
        "def normalize_image(img: np.ndarray) -> np.ndarray:\n",
        "    m, s = np.mean(img), np.std(img) + 1e-8\n",
        "    return (img - m) / s\n",
        "\n",
        "def residual_wavelet(img: np.ndarray) -> np.ndarray:\n",
        "    den = denoise_wavelet(img, method='BayesShrink', mode='soft', rescale_sigma=True)\n",
        "    res = img - den\n",
        "    return res.astype(np.float32)\n"
      ]
    },
    {
      "cell_type": "code",
      "execution_count": 6,
      "id": "b02eb2b4",
      "metadata": {
        "id": "b02eb2b4"
      },
      "outputs": [],
      "source": [
        "\n",
        "def list_images(root: str, exts=('.png', '.jpg', '.jpeg', '.tif', '.tiff', '.bmp')) -> List[str]:\n",
        "    files = []\n",
        "    for ext in exts:\n",
        "        files.extend(glob.glob(os.path.join(root, '**', f'*{ext}'), recursive=True))\n",
        "    return sorted(files)\n",
        "\n",
        "def group_by_scanner(root: str) -> Dict[str, List[str]]:\n",
        "    paths = list_images(root)\n",
        "    mapping = {}\n",
        "    for p in paths:\n",
        "        rel = os.path.relpath(p, root)\n",
        "        scanner = rel.split(os.sep)[0]\n",
        "        mapping.setdefault(scanner, []).append(p)\n",
        "    return mapping\n",
        "\n",
        "def extract_patches(img: np.ndarray, patch: int = 128, stride: int = 128, min_margin: int = 16) -> np.ndarray:\n",
        "    H, W = img.shape\n",
        "    patches = []\n",
        "    for y in range(min_margin, H - patch - min_margin + 1, stride):\n",
        "        for x in range(min_margin, W - patch - min_margin + 1, stride):\n",
        "            patches.append(img[y:y+patch, x:x+patch])\n",
        "    return np.stack(patches, axis=0) if patches else np.empty((0, patch, patch), dtype=img.dtype)\n"
      ]
    },
    {
      "cell_type": "code",
      "execution_count": 7,
      "id": "6b0fa552",
      "metadata": {
        "id": "6b0fa552"
      },
      "outputs": [],
      "source": [
        "\n",
        "def build_document_residual_dataset(\n",
        "    docroot: str,\n",
        "    patch: int = 128,\n",
        "    stride: int = 256,\n",
        "    min_margin: int = 16,\n",
        "    max_patches_per_doc: int = 100\n",
        ") -> Tuple[np.ndarray, np.ndarray, List[str]]:\n",
        "    if not os.path.exists(docroot):\n",
        "        raise FileNotFoundError(f'Document root not found: {docroot}')\n",
        "    by_scanner = group_by_scanner(docroot)\n",
        "    if not by_scanner:\n",
        "        raise FileNotFoundError(f'No images found under: {docroot}')\n",
        "    X_list, y_list = [], []\n",
        "    label_names = sorted(by_scanner.keys())\n",
        "    label_to_idx = {lab: i for i, lab in enumerate(label_names)}\n",
        "    for lab in label_names:\n",
        "        for p in by_scanner[lab]:\n",
        "            img = load_image_gray(p)\n",
        "            img = normalize_image(img)\n",
        "            res = residual_wavelet(img)\n",
        "            patches = extract_patches(res, patch=patch, stride=stride, min_margin=min_margin)\n",
        "            if len(patches) > max_patches_per_doc:\n",
        "                patches = patches[np.random.choice(len(patches), max_patches_per_doc, replace=False)]\n",
        "            for ph in patches:\n",
        "                X_list.append(ph)\n",
        "                y_list.append(label_to_idx[lab])\n",
        "    if not X_list:\n",
        "        raise RuntimeError('No patches were extracted. Check your images/paths.')\n",
        "    X = np.stack(X_list).astype(np.float32)\n",
        "    y = np.array(y_list, dtype=np.int64)\n",
        "    return X, y, label_names\n"
      ]
    },
    {
      "cell_type": "code",
      "execution_count": 9,
      "id": "2095bd67",
      "metadata": {
        "id": "2095bd67"
      },
      "outputs": [],
      "source": [
        "\n",
        "def lbp_hist(patch: np.ndarray, P: int = 16, R: int = 2) -> np.ndarray:\n",
        "    lbp = local_binary_pattern(patch, P, R, method='uniform')\n",
        "    n_bins = P + 2\n",
        "    hist, _ = np.histogram(lbp.ravel(), bins=n_bins, range=(0, n_bins), density=True)\n",
        "    return hist.astype(np.float32)\n",
        "\n",
        "def fft_radial_stats(patch: np.ndarray, n_bins: int = 16) -> np.ndarray:\n",
        "    F = fftshift(fft2(patch))\n",
        "    P = np.abs(F) ** 2\n",
        "    H, W = P.shape\n",
        "    cy, cx = H//2, W//2\n",
        "    y, x = np.indices(P.shape)\n",
        "    r = np.sqrt((y - cy)**2 + (x - cx)**2)\n",
        "    r_norm = r / (r.max() + 1e-8)\n",
        "    bins = np.linspace(0, 1.0, n_bins+1)\n",
        "    feats = []\n",
        "    for i in range(n_bins):\n",
        "        mask = (r_norm >= bins[i]) & (r_norm < bins[i+1])\n",
        "        feats.append(P[mask].mean() if np.any(mask) else 0.0)\n",
        "    feats = np.log1p(np.array(feats, dtype=np.float32))\n",
        "    return (feats - feats.mean()) / (feats.std() + 1e-8)\n",
        "\n",
        "def features_from_patch(patch: np.ndarray) -> np.ndarray:\n",
        "    return np.concatenate([lbp_hist(patch), fft_radial_stats(patch)], axis=0)\n",
        "\n",
        "def features_from_residual_patches(patches: np.ndarray, batch_size: int = 5000) -> np.ndarray:\n",
        "    feats = []\n",
        "    for i in range(0, len(patches), batch_size):\n",
        "        batch = patches[i:i+batch_size]\n",
        "        feats.extend([features_from_patch(p) for p in batch])\n",
        "        print(f\"Processed {min(i+batch_size, len(patches))} / {len(patches)} patches...\")\n",
        "    return np.array(feats, dtype=np.float32)\n"
      ]
    },
    {
      "cell_type": "code",
      "execution_count": 10,
      "id": "74cce2c7",
      "metadata": {
        "id": "74cce2c7"
      },
      "outputs": [],
      "source": [
        "\n",
        "def make_svm_pipeline(C: float = 10.0, gamma: str | float = 'scale') -> Pipeline:\n",
        "    return Pipeline([\n",
        "        ('scaler', StandardScaler()),\n",
        "        ('clf', SVC(C=C, kernel='rbf', gamma=gamma, probability=True, class_weight='balanced'))\n",
        "    ])\n",
        "\n",
        "def train_and_eval(X, y, labels, test_size=0.25):\n",
        "    if len(np.unique(y)) < 2:\n",
        "        raise ValueError('Need at least 2 classes to train a classifier.')\n",
        "    Xtr, Xte, ytr, yte = train_test_split(X, y, test_size=test_size, stratify=y, random_state=42)\n",
        "    model = make_svm_pipeline()\n",
        "    model.fit(Xtr, ytr)\n",
        "    # training acc\n",
        "    yhat_tr = model.predict(Xtr)\n",
        "    train_acc = accuracy_score(ytr, yhat_tr)\n",
        "    # test acc\n",
        "    yhat_te = model.predict(Xte)\n",
        "    test_acc = accuracy_score(yte, yhat_te)\n",
        "    print(\"Training Accuracy:\", train_acc)\n",
        "    print(\"Test Accuracy:\", test_acc)\n",
        "    print(classification_report(yte, yhat_te, target_names=labels))\n",
        "    cm = confusion_matrix(yte, yhat_te)\n",
        "    ConfusionMatrixDisplay(cm, display_labels=labels).plot(xticks_rotation=45)\n",
        "    plt.show()\n",
        "    return model\n"
      ]
    },
    {
      "cell_type": "code",
      "execution_count": 12,
      "id": "a06cd73b",
      "metadata": {
        "id": "a06cd73b"
      },
      "outputs": [],
      "source": [
        "\n",
        "class PatchDataset(Dataset):\n",
        "    def __init__(self, patches: np.ndarray, labels: np.ndarray):\n",
        "        self.X = patches.astype(np.float32)\n",
        "        self.y = labels.astype(np.int64)\n",
        "    def __len__(self): return len(self.X)\n",
        "    def __getitem__(self, idx):\n",
        "        return torch.from_numpy(self.X[idx][None, ...]), torch.tensor(self.y[idx])\n",
        "\n",
        "import torchvision.models as models\n",
        "import torch.nn.functional as F\n",
        "\n",
        "class ResNetScanner(nn.Module):\n",
        "    def __init__(self, n_classes: int):\n",
        "        super().__init__()\n",
        "        # Load pretrained ResNet18\n",
        "        self.resnet = models.resnet18(weights=models.ResNet18_Weights.DEFAULT)\n",
        "\n",
        "        # Modify first conv layer to accept 1-channel input (grayscale patches)\n",
        "        self.resnet.conv1 = nn.Conv2d(1, 64, kernel_size=7, stride=2, padding=3, bias=False)\n",
        "\n",
        "        # Replace final FC layer with classifier for scanners\n",
        "        in_feats = self.resnet.fc.in_features\n",
        "        self.resnet.fc = nn.Linear(in_feats, n_classes)\n",
        "\n",
        "    def forward(self, x):\n",
        "        return self.resnet(x)\n",
        "\n",
        "\n",
        "def train_resnet(patches, labels, epochs=20, batch=64, lr=1e-4):\n",
        "    device = 'cuda' if torch.cuda.is_available() else 'cpu'\n",
        "    ds = PatchDataset(patches, labels)\n",
        "    if len(ds) < 10:\n",
        "        raise ValueError(\"Not enough patches to train CNN.\")\n",
        "\n",
        "    n_val = max(1, int(0.2 * len(ds)))\n",
        "    n_train = len(ds) - n_val\n",
        "    train_ds, val_ds = random_split(ds, [n_train, n_val])\n",
        "    train_dl = DataLoader(train_ds, batch_size=batch, shuffle=True)\n",
        "    val_dl = DataLoader(val_ds, batch_size=batch)\n",
        "\n",
        "    model = ResNetScanner(int(labels.max()+1)).to(device)\n",
        "    opt = torch.optim.Adam(model.parameters(), lr=lr)\n",
        "    crit = nn.CrossEntropyLoss()\n",
        "\n",
        "    for ep in range(epochs):\n",
        "        model.train()\n",
        "        for xb, yb in train_dl:\n",
        "            xb, yb = xb.to(device), yb.to(device)\n",
        "            opt.zero_grad()\n",
        "            loss = crit(model(xb), yb)\n",
        "            loss.backward()\n",
        "            opt.step()\n",
        "\n",
        "        # Validation per epoch\n",
        "        model.eval()\n",
        "        correct, total = 0, 0\n",
        "        with torch.no_grad():\n",
        "            for xb, yb in val_dl:\n",
        "                xb, yb = xb.to(device), yb.to(device)\n",
        "                pred = model(xb).argmax(1)\n",
        "                correct += (pred == yb).sum().item()\n",
        "                total += len(yb)\n",
        "        val_acc = correct / max(1, total)\n",
        "        print(f\"Epoch {ep+1}/{epochs}, Val Acc: {val_acc:.3f}\")\n",
        "\n",
        "    # Final Training Accuracy\n",
        "    correct, total = 0, 0\n",
        "    model.eval()\n",
        "    with torch.no_grad():\n",
        "        for xb, yb in train_dl:\n",
        "            xb, yb = xb.to(device), yb.to(device)\n",
        "            pred = model(xb).argmax(1)\n",
        "            correct += (pred == yb).sum().item()\n",
        "            total += len(yb)\n",
        "    train_acc = correct / max(1, total)\n",
        "\n",
        "    # Final Test Accuracy\n",
        "    correct, total = 0, 0\n",
        "    with torch.no_grad():\n",
        "        for xb, yb in val_dl:\n",
        "            xb, yb = xb.to(device), yb.to(device)\n",
        "            pred = model(xb).argmax(1)\n",
        "            correct += (pred == yb).sum().item()\n",
        "            total += len(yb)\n",
        "    test_acc = correct / max(1, total)\n",
        "\n",
        "    print(f\"\\nFinal Training Accuracy: {train_acc:.3f}\")\n",
        "    print(f\"Final Test Accuracy: {test_acc:.3f}\")\n",
        "\n",
        "    return model, train_acc, test_acc\n"
      ]
    },
    {
      "cell_type": "code",
      "execution_count": 13,
      "id": "cfb1ab84",
      "metadata": {
        "colab": {
          "base_uri": "https://localhost:8080/"
        },
        "id": "cfb1ab84",
        "outputId": "f26fc9ea-118e-4133-8c2e-566daea6de68"
      },
      "outputs": [
        {
          "name": "stdout",
          "output_type": "stream",
          "text": [
            "Combined dataset: (28305, 128, 128) classes: ['Canon120-1', 'Canon120-2', 'Canon220', 'Canon9000-1', 'Canon9000-2', 'EpsonV370-1', 'EpsonV370-2', 'EpsonV39-1', 'EpsonV39-2', 'EpsonV550', 'HP']\n"
          ]
        }
      ],
      "source": [
        "\n",
        "X_off, y_off, labels_off = build_document_residual_dataset(OFFICIALROOT, stride=256, max_patches_per_doc=100)\n",
        "X_wiki, y_wiki, labels_wiki = build_document_residual_dataset(WIKIROOT, stride=256, max_patches_per_doc=100)\n",
        "\n",
        "union_labels = sorted(list(set(labels_off) | set(labels_wiki)))\n",
        "map_union = {lab: i for i, lab in enumerate(union_labels)}\n",
        "y_off_mapped = np.array([map_union[labels_off[idx]] for idx in y_off])\n",
        "y_wiki_mapped = np.array([map_union[labels_wiki[idx]] for idx in y_wiki])\n",
        "\n",
        "X_comb = np.concatenate([X_off, X_wiki], axis=0)\n",
        "y_comb = np.concatenate([y_off_mapped, y_wiki_mapped], axis=0)\n",
        "perm = np.random.RandomState(42).permutation(len(y_comb))\n",
        "X_comb, y_comb = X_comb[perm], y_comb[perm]\n",
        "\n",
        "print(\"Combined dataset:\", X_comb.shape, \"classes:\", union_labels)\n"
      ]
    },
    {
      "cell_type": "code",
      "execution_count": 16,
      "id": "7387eacf",
      "metadata": {
        "colab": {
          "base_uri": "https://localhost:8080/",
          "height": 1000
        },
        "id": "7387eacf",
        "outputId": "2e50a83b-fee9-4195-db19-7be3bbd87345"
      },
      "outputs": [
        {
          "name": "stderr",
          "output_type": "stream",
          "text": [
            "d:\\scanner_id_pipeline\\scanner_env\\Lib\\site-packages\\skimage\\feature\\texture.py:385: UserWarning: Applying `local_binary_pattern` to floating-point images may give unexpected results when small numerical differences between adjacent pixels are present. It is recommended to use this function with images of integer dtype.\n",
            "  warnings.warn(\n"
          ]
        },
        {
          "name": "stdout",
          "output_type": "stream",
          "text": [
            "Processed 2000 / 28305 patches...\n",
            "Processed 4000 / 28305 patches...\n",
            "Processed 6000 / 28305 patches...\n",
            "Processed 8000 / 28305 patches...\n",
            "Processed 10000 / 28305 patches...\n",
            "Processed 12000 / 28305 patches...\n",
            "Processed 14000 / 28305 patches...\n",
            "Processed 16000 / 28305 patches...\n",
            "Processed 18000 / 28305 patches...\n",
            "Processed 20000 / 28305 patches...\n",
            "Processed 22000 / 28305 patches...\n",
            "Processed 24000 / 28305 patches...\n",
            "Processed 26000 / 28305 patches...\n",
            "Processed 28000 / 28305 patches...\n",
            "Processed 28305 / 28305 patches...\n",
            "Training Accuracy: 0.7644620312794422\n",
            "Test Accuracy: 0.7049597286986011\n",
            "              precision    recall  f1-score   support\n",
            "\n",
            "  Canon120-1       0.36      0.51      0.42       282\n",
            "  Canon120-2       0.55      0.56      0.56       318\n",
            "    Canon220       0.76      0.77      0.76       656\n",
            " Canon9000-1       0.60      0.76      0.67       390\n",
            " Canon9000-2       0.64      0.56      0.60       460\n",
            " EpsonV370-1       0.56      0.55      0.55       925\n",
            " EpsonV370-2       0.69      0.65      0.67      1344\n",
            "  EpsonV39-1       0.90      0.76      0.82      1428\n",
            "  EpsonV39-2       0.39      0.53      0.45       261\n",
            "   EpsonV550       0.85      0.95      0.90       219\n",
            "          HP       1.00      1.00      1.00       794\n",
            "\n",
            "    accuracy                           0.70      7077\n",
            "   macro avg       0.66      0.69      0.67      7077\n",
            "weighted avg       0.72      0.70      0.71      7077\n",
            "\n"
          ]
        },
        {
          "data": {
            "image/png": "[encoded data removed]",
            "text/plain": [
              "<Figure size 640x480 with 2 Axes>"
            ]
          },
          "metadata": {},
          "output_type": "display_data"
        },
        {
          "name": "stdout",
          "output_type": "stream",
          "text": [
            "Saved SVM to artifacts/baseline_svm_combined.joblib\n"
          ]
        }
      ],
      "source": [
        "\n",
        "feats_comb = features_from_residual_patches(X_comb, batch_size=2000)\n",
        "svm_model = train_and_eval(feats_comb, y_comb, union_labels)\n",
        "os.makedirs(\"artifacts\", exist_ok=True)\n",
        "joblib.dump({'model': svm_model, 'labels': union_labels}, \"artifacts/baseline_svm_combined.joblib\")\n",
        "print(\"Saved SVM to artifacts/baseline_svm_combined.joblib\")\n"
      ]
    },
    {
      "cell_type": "code",
      "execution_count": 15,
      "id": "bc6db897",
      "metadata": {
        "colab": {
          "base_uri": "https://localhost:8080/"
        },
        "id": "bc6db897",
        "outputId": "df391fc6-21a3-4407-b000-c525073c525b"
      },
      "outputs": [
        {
          "name": "stdout",
          "output_type": "stream",
          "text": [
            "Epoch 1/20, Val Acc: 0.496\n",
            "Epoch 2/20, Val Acc: 0.513\n",
            "Epoch 3/20, Val Acc: 0.405\n",
            "Epoch 4/20, Val Acc: 0.408\n",
            "Epoch 5/20, Val Acc: 0.429\n",
            "Epoch 6/20, Val Acc: 0.604\n",
            "Epoch 7/20, Val Acc: 0.468\n",
            "Epoch 8/20, Val Acc: 0.461\n",
            "Epoch 9/20, Val Acc: 0.414\n",
            "Epoch 10/20, Val Acc: 0.397\n",
            "Epoch 11/20, Val Acc: 0.537\n",
            "Epoch 12/20, Val Acc: 0.462\n",
            "Epoch 13/20, Val Acc: 0.523\n",
            "Epoch 14/20, Val Acc: 0.452\n",
            "Epoch 15/20, Val Acc: 0.461\n",
            "Epoch 16/20, Val Acc: 0.425\n",
            "Epoch 17/20, Val Acc: 0.551\n",
            "Epoch 18/20, Val Acc: 0.464\n",
            "Epoch 19/20, Val Acc: 0.508\n",
            "Epoch 20/20, Val Acc: 0.521\n",
            "\n",
            "Final Training Accuracy: 0.557\n",
            "Final Test Accuracy: 0.521\n",
            "Saved CNN to artifacts/cnn_resnet18_combined.pt\n"
          ]
        }
      ],
      "source": [
        "cnn_model, train_acc, test_acc = train_resnet(X_comb, y_comb, epochs=20, batch=64, lr=1e-4)\n",
        "\n",
        "torch.save({'state_dict': cnn_model.state_dict(), 'labels': union_labels},\n",
        "           \"artifacts/cnn_resnet18_combined.pt\")\n",
        "\n",
        "print(\"Saved CNN to artifacts/cnn_resnet18_combined.pt\")\n"
      ]
    },
    {
      "cell_type": "code",
      "execution_count": null,
      "id": "yXBivDPCJgyd",
      "metadata": {
        "id": "yXBivDPCJgyd"
      },
      "outputs": [],
      "source": []
    }
  ],
  "metadata": {
    "accelerator": "GPU",
    "colab": {
      "gpuType": "T4",
      "provenance": []
    },
    "kernelspec": {
      "display_name": "scanner_env (3.12.10)",
      "language": "python",
      "name": "python3"
    },
    "language_info": {
      "codemirror_mode": {
        "name": "ipython",
        "version": 3
      },
      "file_extension": ".py",
      "mimetype": "text/x-python",
      "name": "python",
      "nbconvert_exporter": "python",
      "pygments_lexer": "ipython3",
      "version": "3.12.10"
    }
  },
  "nbformat": 4,
  "nbformat_minor": 5
}
